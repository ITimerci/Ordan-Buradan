{
  "cells": [
    {
      "cell_type": "markdown",
      "metadata": {
        "id": "view-in-github",
        "colab_type": "text"
      },
      "source": [
        "<a href=\"https://colab.research.google.com/github/ITimerci/Ordan-Buradan/blob/main/Youtube_Download.ipynb\" target=\"_parent\"><img src=\"https://colab.research.google.com/assets/colab-badge.svg\" alt=\"Open In Colab\"/></a>"
      ]
    },
    {
      "cell_type": "code",
      "execution_count": null,
      "metadata": {
        "id": "r6YPADA7htF3"
      },
      "outputs": [],
      "source": [
        "!pip install youtube_dl"
      ]
    },
    {
      "cell_type": "code",
      "execution_count": 2,
      "metadata": {
        "id": "z7BY12pRhfy5"
      },
      "outputs": [],
      "source": [
        "from google.colab import drive\n",
        "import youtube_dl\n",
        "import os"
      ]
    },
    {
      "cell_type": "code",
      "execution_count": null,
      "metadata": {
        "id": "Dtz8cSoKhPM5"
      },
      "outputs": [],
      "source": [
        "drive.mount('/content/drive', force_remount=True)"
      ]
    },
    {
      "cell_type": "code",
      "execution_count": 11,
      "metadata": {
        "id": "E9c31npJhhMg"
      },
      "outputs": [],
      "source": [
        "urls = [\"https://www.youtube.com/playlist?list=PLSxTo9u7OlJd3ExzsrJ9X7zhn0Bi0Tmzr\",\n",
        "       \"https://www.youtube.com/watch?v=Yr-l37qfF7M\"]"
      ]
    },
    {
      "cell_type": "code",
      "execution_count": null,
      "metadata": {
        "id": "dSvE6-En7qx9"
      },
      "outputs": [],
      "source": [
        "for url in urls:\n",
        "  print(url)\n",
        "\n",
        "\n",
        "  with youtube_dl.YoutubeDL({\"ignoreerrors\": True, \"quiet\": True}) as ydl:\n",
        "      playlist_dict = ydl.extract_info(url, download=False)\n",
        "\n",
        "  folder = playlist_dict['title'] + '_' + playlist_dict['uploader']\n",
        " \n",
        "  path = f\"//content//drive//MyDrive//YouTube//{folder}//\"\n",
        "\n",
        "  os.makedirs(path, exist_ok=True)\n",
        " \n",
        "  os.chdir(path)\n",
        "\n",
        "  print(os.getcwd())\n",
        "\n",
        "  !youtube-dl --write-sub  --write-auto-sub --sub-lang en  -f '(bestvideo+bestaudio/best)'  -ciw -o \"%(title)s.%(ext)s\" -v {url}"
      ]
    }
  ],
  "metadata": {
    "colab": {
      "provenance": [],
      "collapsed_sections": [],
      "authorship_tag": "ABX9TyOEbs3XVUziTIDwISX+NcU5",
      "include_colab_link": true
    },
    "kernelspec": {
      "display_name": "Python 3",
      "name": "python3"
    },
    "language_info": {
      "name": "python"
    }
  },
  "nbformat": 4,
  "nbformat_minor": 0
}